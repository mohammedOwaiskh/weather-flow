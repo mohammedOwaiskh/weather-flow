{
 "cells": [
  {
   "cell_type": "code",
   "execution_count": 10,
   "metadata": {},
   "outputs": [],
   "source": [
    "from pyspark.sql import SparkSession\n",
    "from processor import get_spark_session\n",
    "\n",
    "spark:SparkSession = get_spark_session()"
   ]
  },
  {
   "cell_type": "code",
   "execution_count": 11,
   "metadata": {},
   "outputs": [],
   "source": [
    "kafka_df = (\n",
    "    spark.read.format(\"kafka\")\n",
    "    .option(\"kafka.bootstrap.servers\", \"localhost:9092\")\n",
    "    .option(\"subscribe\", \"iot-sensor-data\")\n",
    "    .option(\"startingOffsets\", \"earliest\")\n",
    "    .option(\"failOnDataLoss\",False)\n",
    "    .load()\n",
    ")"
   ]
  },
  {
   "cell_type": "code",
   "execution_count": 12,
   "metadata": {},
   "outputs": [],
   "source": [
    "from pyspark.sql.types import StringType\n",
    "\n",
    "iot_data_df = kafka_df.withColumn(\"value\", kafka_df.value.cast(StringType())).select(\n",
    "    \"value\"\n",
    ")"
   ]
  },
  {
   "cell_type": "code",
   "execution_count": 13,
   "metadata": {},
   "outputs": [
    {
     "name": "stdout",
     "output_type": "stream",
     "text": [
      "+--------------------+\n",
      "|               value|\n",
      "+--------------------+\n",
      "|{\"device_id\": \"se...|\n",
      "|{\"device_id\": \"se...|\n",
      "|{\"device_id\": \"se...|\n",
      "|{\"device_id\": \"se...|\n",
      "|{\"device_id\": \"se...|\n",
      "|{\"device_id\": \"se...|\n",
      "|{\"device_id\": \"se...|\n",
      "|{\"device_id\": \"se...|\n",
      "|{\"device_id\": \"se...|\n",
      "|{\"device_id\": \"se...|\n",
      "|{\"device_id\": \"se...|\n",
      "|{\"device_id\": \"se...|\n",
      "|{\"device_id\": \"se...|\n",
      "|{\"device_id\": \"se...|\n",
      "|{\"device_id\": \"se...|\n",
      "|{\"device_id\": \"se...|\n",
      "|{\"device_id\": \"se...|\n",
      "|{\"device_id\": \"se...|\n",
      "|{\"device_id\": \"se...|\n",
      "|{\"device_id\": \"se...|\n",
      "+--------------------+\n",
      "only showing top 20 rows\n",
      "\n"
     ]
    }
   ],
   "source": [
    "iot_data_df.show()"
   ]
  },
  {
   "cell_type": "code",
   "execution_count": 14,
   "metadata": {},
   "outputs": [],
   "source": [
    "from pyspark.sql.types import (\n",
    "    StructType,\n",
    "    StructField,\n",
    "    IntegerType,\n",
    "    TimestampType,\n",
    "    DecimalType,\n",
    ")\n",
    "\n",
    "json_schema = StructType(\n",
    "    [\n",
    "        StructField(\"device_id\", StringType()),\n",
    "        StructField(\"temperature\", DecimalType()),\n",
    "        StructField(\"humidity\", IntegerType()),\n",
    "        StructField(\"pressure\", DecimalType()),\n",
    "        StructField(\"wind_speed\", DecimalType()),\n",
    "        StructField(\"rainfall\", DecimalType()),\n",
    "        StructField(\n",
    "            \"location\",\n",
    "            StructType(\n",
    "                [\n",
    "                    StructField(\"latitude\", DecimalType()),\n",
    "                    StructField(\"longitude\", DecimalType()),\n",
    "                ]\n",
    "            ),\n",
    "        ),\n",
    "        StructField(\"device_status\", StringType()),\n",
    "        StructField(\"timestamp\",TimestampType()),\n",
    "    ]\n",
    ")"
   ]
  },
  {
   "cell_type": "code",
   "execution_count": 15,
   "metadata": {},
   "outputs": [],
   "source": [
    "from pyspark.sql.functions import from_json,col\n",
    "\n",
    "iot_data_json_df = iot_data_df.withColumn('value',from_json('value',json_schema))"
   ]
  },
  {
   "cell_type": "code",
   "execution_count": 16,
   "metadata": {},
   "outputs": [
    {
     "name": "stdout",
     "output_type": "stream",
     "text": [
      "+--------------------+\n",
      "|               value|\n",
      "+--------------------+\n",
      "|{sensor_54, 22, 1...|\n",
      "|{sensor_49, 14, 5...|\n",
      "|{sensor_48, 11, 3...|\n",
      "|{sensor_8, 39, 28...|\n",
      "|{sensor_33, 9, 58...|\n",
      "|{sensor_97, 46, 3...|\n",
      "|{sensor_91, 40, 6...|\n",
      "|{sensor_79, 5, 27...|\n",
      "|{sensor_61, 25, 8...|\n",
      "|{sensor_5, 49, 89...|\n",
      "|{sensor_7, 34, 19...|\n",
      "|{sensor_2, 48, 20...|\n",
      "|{sensor_61, 46, 2...|\n",
      "|{sensor_55, 2, 83...|\n",
      "|{sensor_63, 27, 7...|\n",
      "|{sensor_83, 21, 4...|\n",
      "|{sensor_81, 42, 1...|\n",
      "|{sensor_22, 17, 5...|\n",
      "|{sensor_32, 35, 1...|\n",
      "|{sensor_42, 30, 8...|\n",
      "+--------------------+\n",
      "only showing top 20 rows\n",
      "\n"
     ]
    }
   ],
   "source": [
    "iot_data_json_df.show()"
   ]
  },
  {
   "cell_type": "code",
   "execution_count": 18,
   "metadata": {},
   "outputs": [],
   "source": [
    "iot_data_parsed = iot_data_json_df.select(col(\"value.*\"))"
   ]
  },
  {
   "cell_type": "code",
   "execution_count": 20,
   "metadata": {},
   "outputs": [
    {
     "name": "stdout",
     "output_type": "stream",
     "text": [
      "+---------+-----------+--------+--------+----------+--------+----------+-------------+-------------------+\n",
      "|device_id|temperature|humidity|pressure|wind_speed|rainfall|  location|device_status|          timestamp|\n",
      "+---------+-----------+--------+--------+----------+--------+----------+-------------+-------------------+\n",
      "|sensor_54|         22|      16|     991|        28|     127|  {3, 159}|     inactive|2024-09-17 07:29:39|\n",
      "|sensor_49|         14|      58|    1026|        14|     199| {-44, 54}|  maintenance|2024-07-14 11:10:45|\n",
      "|sensor_48|         11|      36|     987|         4|      50| {70, 179}|  maintenance|2024-07-04 13:56:21|\n",
      "| sensor_8|         39|      28|     972|        13|     110|{-57, -26}|     inactive|2024-12-17 13:00:50|\n",
      "|sensor_33|          9|      58|     957|        28|      98| {83, 112}|     inactive|2024-02-25 08:40:34|\n",
      "|sensor_97|         46|      35|    1039|        26|     159|   {17, 0}|  maintenance|2024-01-04 17:23:19|\n",
      "|sensor_91|         40|      65|    1009|        16|     149| {62, 139}|  maintenance|2024-12-21 00:56:12|\n",
      "|sensor_79|          5|      27|    1001|        25|     126| {24, -52}|     inactive|2024-11-13 14:26:02|\n",
      "|sensor_61|         25|      81|    1039|         7|     104| {-29, 32}|  maintenance|2024-06-24 18:27:09|\n",
      "| sensor_5|         49|      89|     969|         9|      19|{73, -160}|  maintenance|2024-09-13 23:01:25|\n",
      "| sensor_7|         34|      19|     962|         5|     162|  {21, 55}|     inactive|2024-09-28 08:06:22|\n",
      "| sensor_2|         48|      20|     984|         7|     156|{-37, 121}|       active|2024-08-20 22:08:45|\n",
      "|sensor_61|         46|      29|     966|         7|      92|{68, -166}|     inactive|2024-03-03 19:58:36|\n",
      "|sensor_55|          2|      83|    1032|        20|     130| {37, 107}|     inactive|2024-06-13 14:12:02|\n",
      "|sensor_63|         27|      79|     952|        14|      93|  {-2, 93}|     inactive|2024-07-06 00:58:35|\n",
      "|sensor_83|         21|      49|    1010|         7|     191|{-65, 105}|       active|2024-02-08 23:52:51|\n",
      "|sensor_81|         42|      18|     996|        18|     150|{-17, -80}|     inactive|2024-09-12 05:59:54|\n",
      "|sensor_22|         17|      52|     991|         9|       2|  {-9, -8}|     inactive|2024-11-13 12:34:30|\n",
      "|sensor_32|         35|      17|     958|        21|      30|{-22, -62}|     inactive|2024-11-05 04:36:30|\n",
      "|sensor_42|         30|      89|    1028|         8|      62|{-62, 142}|  maintenance|2024-01-09 02:42:27|\n",
      "+---------+-----------+--------+--------+----------+--------+----------+-------------+-------------------+\n",
      "only showing top 20 rows\n",
      "\n"
     ]
    }
   ],
   "source": [
    "iot_data_parsed.show()"
   ]
  },
  {
   "cell_type": "code",
   "execution_count": 22,
   "metadata": {},
   "outputs": [
    {
     "name": "stdout",
     "output_type": "stream",
     "text": [
      "+---------+-----------+--------+--------+----------+--------+-------------+-------------------+---------+--------+\n",
      "|device_id|temperature|humidity|pressure|wind_speed|rainfall|device_status|          timestamp|longitude|latitude|\n",
      "+---------+-----------+--------+--------+----------+--------+-------------+-------------------+---------+--------+\n",
      "|sensor_54|         22|      16|     991|        28|     127|     inactive|2024-09-17 07:29:39|      159|       3|\n",
      "|sensor_49|         14|      58|    1026|        14|     199|  maintenance|2024-07-14 11:10:45|       54|     -44|\n",
      "|sensor_48|         11|      36|     987|         4|      50|  maintenance|2024-07-04 13:56:21|      179|      70|\n",
      "| sensor_8|         39|      28|     972|        13|     110|     inactive|2024-12-17 13:00:50|      -26|     -57|\n",
      "|sensor_33|          9|      58|     957|        28|      98|     inactive|2024-02-25 08:40:34|      112|      83|\n",
      "|sensor_97|         46|      35|    1039|        26|     159|  maintenance|2024-01-04 17:23:19|        0|      17|\n",
      "|sensor_91|         40|      65|    1009|        16|     149|  maintenance|2024-12-21 00:56:12|      139|      62|\n",
      "|sensor_79|          5|      27|    1001|        25|     126|     inactive|2024-11-13 14:26:02|      -52|      24|\n",
      "|sensor_61|         25|      81|    1039|         7|     104|  maintenance|2024-06-24 18:27:09|       32|     -29|\n",
      "| sensor_5|         49|      89|     969|         9|      19|  maintenance|2024-09-13 23:01:25|     -160|      73|\n",
      "| sensor_7|         34|      19|     962|         5|     162|     inactive|2024-09-28 08:06:22|       55|      21|\n",
      "| sensor_2|         48|      20|     984|         7|     156|       active|2024-08-20 22:08:45|      121|     -37|\n",
      "|sensor_61|         46|      29|     966|         7|      92|     inactive|2024-03-03 19:58:36|     -166|      68|\n",
      "|sensor_55|          2|      83|    1032|        20|     130|     inactive|2024-06-13 14:12:02|      107|      37|\n",
      "|sensor_63|         27|      79|     952|        14|      93|     inactive|2024-07-06 00:58:35|       93|      -2|\n",
      "|sensor_83|         21|      49|    1010|         7|     191|       active|2024-02-08 23:52:51|      105|     -65|\n",
      "|sensor_81|         42|      18|     996|        18|     150|     inactive|2024-09-12 05:59:54|      -80|     -17|\n",
      "|sensor_22|         17|      52|     991|         9|       2|     inactive|2024-11-13 12:34:30|       -8|      -9|\n",
      "|sensor_32|         35|      17|     958|        21|      30|     inactive|2024-11-05 04:36:30|      -62|     -22|\n",
      "|sensor_42|         30|      89|    1028|         8|      62|  maintenance|2024-01-09 02:42:27|      142|     -62|\n",
      "+---------+-----------+--------+--------+----------+--------+-------------+-------------------+---------+--------+\n",
      "only showing top 20 rows\n",
      "\n"
     ]
    }
   ],
   "source": [
    "iot_data_parsed.withColumn(\"longitude\",col(\"location.longitude\")).withColumn(\"latitude\",col('location.latitude')).drop(\"location\").show()"
   ]
  },
  {
   "cell_type": "code",
   "execution_count": null,
   "metadata": {},
   "outputs": [],
   "source": []
  }
 ],
 "metadata": {
  "kernelspec": {
   "display_name": "Python 3",
   "language": "python",
   "name": "python3"
  },
  "language_info": {
   "codemirror_mode": {
    "name": "ipython",
    "version": 3
   },
   "file_extension": ".py",
   "mimetype": "text/x-python",
   "name": "python",
   "nbconvert_exporter": "python",
   "pygments_lexer": "ipython3",
   "version": "3.11.11"
  }
 },
 "nbformat": 4,
 "nbformat_minor": 2
}
